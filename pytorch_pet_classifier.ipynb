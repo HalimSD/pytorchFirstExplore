{
 "cells": [
  {
   "cell_type": "code",
   "execution_count": 371,
   "metadata": {},
   "outputs": [],
   "source": [
    "import torch.nn as nn\n",
    "import torch.nn.functional as F\n",
    "import torchvision\n",
    "import torch.utils.data as data\n",
    "from torch.utils.data import DataLoader, Dataset\n",
    "import torchvision.transforms as transformers\n",
    "import os\n",
    "import re as regex\n",
    "from skimage import io"
   ]
  },
  {
   "cell_type": "code",
   "execution_count": 295,
   "metadata": {},
   "outputs": [],
   "source": [
    "data_path = './images'\n",
    "batch_size = 32"
   ]
  },
  {
   "cell_type": "code",
   "execution_count": 361,
   "metadata": {},
   "outputs": [],
   "source": [
    "class ImagesLoader(DataLoader):\n",
    "    def __init__(self, root_dir, transform=None):\n",
    "        self.root_dir = root_dir\n",
    "        self.transform = transform\n",
    "        self.files_list = os.listdir(self.root_dir)\n",
    "    \n",
    "    def __len__(self):\n",
    "        return len(self.files_list)\n",
    "\n",
    "    def __getitem__(self, index):\n",
    "        image_full_name = self.files_list[index]\n",
    "        iamge_path = os.path.join(self.root_dir, image_full_name)\n",
    "        image_name = regex.findall(r'(.+)_\\d+.jpg$', image_full_name)\n",
    "\n",
    "        image = io.imread(iamge_path)\n",
    "        # io.imshow(image)\n",
    "        \n",
    "        if self.transform:\n",
    "            image = self.transform(image)\n",
    "        \n",
    "        return (image, image_name)"
   ]
  },
  {
   "cell_type": "code",
   "execution_count": 368,
   "metadata": {},
   "outputs": [],
   "source": [
    "dataset = ImagesLoader(root_dir=data_path, transform= transformers.ToTensor())\n",
    "train_set, test_set = data.random_split(dataset, [6894,500])\n",
    "train_loader = DataLoader(dataset=train_set, batch_size= batch_size, shuffle=True)\n",
    "test_loader = DataLoader(dataset=test_set, batch_size= batch_size, shuffle=True)\n",
    "dataset.__len__()\n",
    "image,image_name = dataset.__getitem__(0)"
   ]
  },
  {
   "cell_type": "code",
   "execution_count": 372,
   "metadata": {},
   "outputs": [],
   "source": [
    "class Network(nn.Module):\n",
    "    def __init__(self):\n",
    "        super().__init__()\n",
    "        self.conv1 = nn.Conv2d(in_channels= 3, out_channels=6 , kernel_size=2)\n",
    "        self.conv2 = nn.Conv2d(in_channels= 6, out_channels=12 , kernel_size=2)\n",
    "\n",
    "        self.fc1 = nn.Linear(in_channels = 12 * 4 * 4, out_channels = 120)\n",
    "        self.fc2 = nn.Linear(in_channels = 120, out_channels = 60)\n",
    "        self.fc3 = nn.Linear(in_channels = 60, out_channels = 37)\n",
    "\n",
    "    def forward(self, tensor):\n",
    "        tensor = F.relu(self.conv1(tensor))\n",
    "        tensor = F.max_pool2d(tensor, kernel_size = 2)\n",
    "        \n",
    "        tensor = F.relu(self.conv2(tensor))\n",
    "        tensor = F.max_pool2d(tensor, kernel_size = 2)\n",
    "\n",
    "        tensor = tensor.reshap(-1 , 12 * 4 *4)\n",
    "        tensor = F.relu(self.fc1(tensor))\n",
    "        tensor = F.relu(self.fc2(tensor))\n",
    "        tensor = self.out(tensor)\n",
    "\n",
    "        return tensor"
   ]
  }
 ],
 "metadata": {
  "interpreter": {
   "hash": "ff2c55019121a2c56cd7cb35a74771268e9f84077a0dddc424ec74d5925bffdf"
  },
  "kernelspec": {
   "display_name": "Python 3.7.12 64-bit ('py37': conda)",
   "language": "python",
   "name": "python3"
  },
  "language_info": {
   "codemirror_mode": {
    "name": "ipython",
    "version": 3
   },
   "file_extension": ".py",
   "mimetype": "text/x-python",
   "name": "python",
   "nbconvert_exporter": "python",
   "pygments_lexer": "ipython3",
   "version": "3.7.12"
  },
  "orig_nbformat": 4
 },
 "nbformat": 4,
 "nbformat_minor": 2
}
